{
 "cells": [
  {
   "cell_type": "markdown",
   "id": "bba16b76-736d-4bf8-9e72-ed05cd309b29",
   "metadata": {},
   "source": [
    "You don't need to read input or print anything. Your task is to complete the function sort012() that takes an array arr and N as input parameters and sorts the array in-place."
   ]
  },
  {
   "cell_type": "code",
   "execution_count": 5,
   "id": "5054d4ec-fafe-4c3d-a4c6-bc4a25e43a57",
   "metadata": {},
   "outputs": [],
   "source": [
    "class Solution:\n",
    "    \n",
    "    def sort012(self,arr,n):\n",
    "        low=0\n",
    "        high=n-1\n",
    "        mid=0\n",
    "        \n",
    "\n",
    "        while mid<=high:\n",
    "            \n",
    "            \n",
    "            if arr[mid]==0:\n",
    "                arr[mid] , arr[low] = arr[low] , arr[mid]\n",
    "                mid+=1\n",
    "                low+=1\n",
    "                \n",
    "            \n",
    "            elif arr[mid]==1:\n",
    "                mid+=1\n",
    "                \n",
    "            \n",
    "            else:\n",
    "                arr[mid] , arr[high] = arr[high] , arr[mid]\n",
    "                high-=1\n"
   ]
  },
  {
   "cell_type": "markdown",
   "id": "8f50d80f-df13-4da7-8539-069aa8406d04",
   "metadata": {},
   "source": [
    "You dont need to read input or print anything. Complete the function binarysearch() which takes arr[], N and K as input parameters and returns the index of K in the array. If K is not present in the array, return -1.\r\n"
   ]
  },
  {
   "cell_type": "code",
   "execution_count": 6,
   "id": "d3c841ca-1a1f-4371-9cdc-dc187753262d",
   "metadata": {},
   "outputs": [
    {
     "name": "stdout",
     "output_type": "stream",
     "text": [
      "Element is present at index  3\n"
     ]
    }
   ],
   "source": [
    "def binarySearch(arr, l, r, x):\n",
    "\n",
    "    while l <= r:\n",
    "\n",
    "        mid = l + (r - l) // 2\n",
    "\n",
    "        \n",
    "        if arr[mid] == x:\n",
    "            return mid\n",
    "\n",
    "       \n",
    "        elif arr[mid] < x:\n",
    "            l = mid + 1\n",
    "\n",
    "        \n",
    "        else:\n",
    "            r = mid - 1\n",
    "\n",
    "    \n",
    "    return -1\n",
    "\n",
    "\n",
    "\n",
    "arr = [2, 3, 4, 10, 40]\n",
    "x = 10\n",
    "\n",
    "\n",
    "result = binarySearch(arr, 0, len(arr)-1, x)\n",
    "\n",
    "if result != -1:\n",
    "    print(\"Element is present at index % d\" % result)\n",
    "else:\n",
    "    print(\"Element is not present in array\")\n"
   ]
  }
 ],
 "metadata": {
  "kernelspec": {
   "display_name": "Python 3 (ipykernel)",
   "language": "python",
   "name": "python3"
  },
  "language_info": {
   "codemirror_mode": {
    "name": "ipython",
    "version": 3
   },
   "file_extension": ".py",
   "mimetype": "text/x-python",
   "name": "python",
   "nbconvert_exporter": "python",
   "pygments_lexer": "ipython3",
   "version": "3.11.7"
  }
 },
 "nbformat": 4,
 "nbformat_minor": 5
}
