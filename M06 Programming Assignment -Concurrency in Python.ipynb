{
 "cells": [
  {
   "cell_type": "markdown",
   "id": "ffdc51c7",
   "metadata": {},
   "source": [
    "13.1 Write the current date as a string to the text file today.txt."
   ]
  },
  {
   "cell_type": "markdown",
   "id": "605d5845",
   "metadata": {},
   "source": [
    "![Screenshot (116).png](<attachment:Screenshot (116).png>)"
   ]
  },
  {
   "cell_type": "markdown",
   "id": "c5db8721",
   "metadata": {},
   "source": [
    "13.2 Read the text file today.txt into the string today_string.\n",
    "\n",
    "13.3 Parse the date from today_string."
   ]
  },
  {
   "cell_type": "code",
   "execution_count": 1,
   "id": "6af32f27",
   "metadata": {},
   "outputs": [
    {
     "name": "stdout",
     "output_type": "stream",
     "text": [
      "4/25/2024\n"
     ]
    }
   ],
   "source": [
    "with open(\"today.txt\", \"r\") as file:\n",
    "    today_string = file.read()\n",
    "    print(today_string)"
   ]
  },
  {
   "cell_type": "markdown",
   "id": "d07ed5c6",
   "metadata": {},
   "source": [
    "15.1 Use multiprocessing to create three separate processes. Make each one wait a random number of seconds between zero and one, print the current time, and then exit."
   ]
  },
  {
   "cell_type": "code",
   "execution_count": 1,
   "id": "503cea8c",
   "metadata": {},
   "outputs": [
    {
     "name": "stdout",
     "output_type": "stream",
     "text": [
      "Today's date and time is 2024-04-25 22:12:10.902989\n",
      "Today's date and time is 2024-04-25 22:12:11.013088\n",
      "Today's date and time is 2024-04-25 22:12:11.038112\n"
     ]
    }
   ],
   "source": [
    "import multiprocessing\n",
    "from datetime import datetime\n",
    "import time\n",
    "import random\n",
    "\n",
    "\n",
    "def ptime():\n",
    "    cur = datetime.now()\n",
    "    print(\"Today's date and time is {}\".format(cur))\n",
    "    time.sleep(random.random())\n",
    "\n",
    "if __name__ == '__main__':\n",
    "    proc1 = multiprocessing.Process(target=ptime())\n",
    "    proc2 = multiprocessing.Process(target=ptime())\n",
    "    proc3 = multiprocessing.Process(target=ptime())\n",
    "    proc1.start()\n",
    "    proc2.start()\n",
    "    proc3.start()\n",
    "    proc1.join()\n",
    "    proc2.join()\n",
    "    proc3.join()"
   ]
  }
 ],
 "metadata": {
  "kernelspec": {
   "display_name": "base",
   "language": "python",
   "name": "python3"
  },
  "language_info": {
   "codemirror_mode": {
    "name": "ipython",
    "version": 3
   },
   "file_extension": ".py",
   "mimetype": "text/x-python",
   "name": "python",
   "nbconvert_exporter": "python",
   "pygments_lexer": "ipython3",
   "version": "3.11.7"
  }
 },
 "nbformat": 4,
 "nbformat_minor": 5
}
