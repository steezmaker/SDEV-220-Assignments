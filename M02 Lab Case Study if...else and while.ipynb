{
 "cells": [
  {
   "cell_type": "markdown",
   "id": "59ca55af-4f9e-4909-8a78-35c0a91e4f95",
   "metadata": {
    "jp-MarkdownHeadingCollapsed": true
   },
   "source": [
    "Author: Jonas Treadwell\n",
    "File Name: M02 Lab Case Study if...else and while.py\n",
    "Description: This app lets you input the last and first names of students along with their GPA. \n",
    "If the GPA is equal or above 3.5, the student is in the Dean's List. If the GPA is equal or above 3.25, the student is in the Honor Roll,\n",
    "otherwise, the student doesn't qualify for any honors.\n",
    "This is possible due to if, else, elif, and while statements.\n"
   ]
  },
  {
   "cell_type": "code",
   "execution_count": 2,
   "id": "c03d7308-1e9e-4aca-86f5-669046db2f98",
   "metadata": {},
   "outputs": [
    {
     "name": "stdout",
     "output_type": "stream",
     "text": [
      "Dean List / Honor Roll Checker\n",
      "Enter 'ZZZ' as the last name to quit. \n"
     ]
    },
    {
     "name": "stdin",
     "output_type": "stream",
     "text": [
      "Enter student's last name:  Treadwell\n",
      "Enter student's first name:  Jonas\n",
      "Enter student's GPA:  4.2\n"
     ]
    },
    {
     "name": "stdout",
     "output_type": "stream",
     "text": [
      "Jonas Treadwell has made the Dean's List.\n"
     ]
    },
    {
     "name": "stdin",
     "output_type": "stream",
     "text": [
      "Enter student's last name:  Carter\n",
      "Enter student's first name:  Joziah\n",
      "Enter student's GPA:  3.4\n"
     ]
    },
    {
     "name": "stdout",
     "output_type": "stream",
     "text": [
      "Joziah Carter has made the Honor Roll.\n"
     ]
    },
    {
     "name": "stdin",
     "output_type": "stream",
     "text": [
      "Enter student's last name:  Holloway\n",
      "Enter student's first name:  Hannah\n",
      "Enter student's GPA:  3.3\n"
     ]
    },
    {
     "name": "stdout",
     "output_type": "stream",
     "text": [
      "Hannah Holloway has made the Honor Roll.\n"
     ]
    },
    {
     "name": "stdin",
     "output_type": "stream",
     "text": [
      "Enter student's last name:  Smith\n",
      "Enter student's first name:  Steve\n",
      "Enter student's GPA:  2.3\n"
     ]
    },
    {
     "name": "stdout",
     "output_type": "stream",
     "text": [
      "Steve Smith does not qualify for any honors.\n"
     ]
    },
    {
     "name": "stdin",
     "output_type": "stream",
     "text": [
      "Enter student's last name:  Jaccobs\n",
      "Enter student's first name:  Mark\n",
      "Enter student's GPA:  3.1\n"
     ]
    },
    {
     "name": "stdout",
     "output_type": "stream",
     "text": [
      "Mark Jaccobs does not qualify for any honors.\n"
     ]
    },
    {
     "name": "stdin",
     "output_type": "stream",
     "text": [
      "Enter student's last name:  ZZZ\n"
     ]
    }
   ],
   "source": [
    "# variables: last_name / first_name / gpa\n",
    "\n",
    "# defining the main program\n",
    "def main():\n",
    "    # starting statements \n",
    "    print(\"Dean List / Honor Roll Checker\")\n",
    "    print(\"Enter 'ZZZ' as the last name to quit. \")\n",
    "    # start of loop\n",
    "    while True:   \n",
    "        last_name = input(\"Enter student's last name: \") # string input for last name\n",
    "        if last_name == 'ZZZ':\n",
    "            break # program ends if the last name is 'ZZZ'\n",
    "        first_name = input(\"Enter student's first name: \") # string input for first name\n",
    "        gpa = float(input(\"Enter student's GPA: \")) # float integer for gpa\n",
    "        if gpa >= 3.5: # if statement for Dean's List requirements\n",
    "            print(f\"{first_name} {last_name} has made the Dean's List.\")\n",
    "        elif gpa >= 3.25: # if statment for Honor Roll requirements\n",
    "            print(f\"{first_name} {last_name} has made the Honor Roll.\")\n",
    "        else: # else statement if previous requirements don't match\n",
    "            print(f\"{first_name} {last_name} does not qualify for any honors.\")\n",
    "if __name__ == \"__main__\":\n",
    "    main()"
   ]
  },
  {
   "cell_type": "code",
   "execution_count": null,
   "id": "17b89f54-9261-4d19-9d36-5d5a8a28ecd8",
   "metadata": {},
   "outputs": [],
   "source": []
  }
 ],
 "metadata": {
  "kernelspec": {
   "display_name": "Python 3 (ipykernel)",
   "language": "python",
   "name": "python3"
  },
  "language_info": {
   "codemirror_mode": {
    "name": "ipython",
    "version": 3
   },
   "file_extension": ".py",
   "mimetype": "text/x-python",
   "name": "python",
   "nbconvert_exporter": "python",
   "pygments_lexer": "ipython3",
   "version": "3.11.7"
  }
 },
 "nbformat": 4,
 "nbformat_minor": 5
}
