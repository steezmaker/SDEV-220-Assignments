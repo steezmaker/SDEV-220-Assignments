{
 "cells": [
  {
   "cell_type": "markdown",
   "id": "c36252a3-76ae-404e-ba50-f47836cd7c02",
   "metadata": {},
   "source": [
    "(4.1) Choose a number between 1 and 10 and assign it to the variable secret. Then, select another number between 1 and 10 and assign it to the variable guess. Next, write the conditional tests (if, else, and elif) to print the string 'too low' if guess is less than secret, 'too high' if greater than secret, and 'just right' if equal to secret."
   ]
  },
  {
   "cell_type": "code",
   "execution_count": 5,
   "id": "10d64c7b-2b63-47d3-9cd4-3a1afac0af2b",
   "metadata": {},
   "outputs": [
    {
     "name": "stdout",
     "output_type": "stream",
     "text": [
      "too high\n"
     ]
    }
   ],
   "source": [
    "secret = 5\n",
    "guess = 6\n",
    "if (guess < secret):\n",
    "    print(\"too low\")\n",
    "elif (guess > secret):\n",
    "    print(\"too high\")\n",
    "else: \n",
    "    print(\"just right\")\n",
    "    \n"
   ]
  },
  {
   "cell_type": "markdown",
   "id": "6ff426b4-db5e-43f2-953b-c3dbebec8338",
   "metadata": {},
   "source": [
    "(4.2) Assign True or False to the variables small and green. Write some if/else statements to print which of these matches those choices: cherry, pea, watermelon, pumpkin."
   ]
  },
  {
   "cell_type": "code",
   "execution_count": 14,
   "id": "e3e61d31-2834-42e9-a28a-aabaa1c57bf2",
   "metadata": {},
   "outputs": [
    {
     "name": "stdout",
     "output_type": "stream",
     "text": [
      "pumpkin\n"
     ]
    }
   ],
   "source": [
    "small = False\n",
    "green = False\n",
    "if (small == False and green == True):\n",
    "    print(\"watermelon\")\n",
    "elif (small == True and green == False):\n",
    "    print(\"cherry\")\n",
    "elif (small == True and green == True):\n",
    "    print(\"pea\")\n",
    "else: print(\"pumpkin\")\n",
    "    "
   ]
  },
  {
   "cell_type": "markdown",
   "id": "d06d0570-d0f6-4d77-a0bb-503a01b69418",
   "metadata": {},
   "source": [
    "(6.1) Use a for loop to print the values of the list [3, 2, 1, 0]."
   ]
  },
  {
   "cell_type": "code",
   "execution_count": 22,
   "id": "7ec6d3e2-d7ea-45fd-845a-454a47e2da43",
   "metadata": {},
   "outputs": [
    {
     "name": "stdout",
     "output_type": "stream",
     "text": [
      "3 ..\n",
      "2 ..\n",
      "1 ..\n",
      "0 ..\n"
     ]
    },
    {
     "data": {
      "text/plain": [
       "[0, 1, 2, 3]"
      ]
     },
     "execution_count": 22,
     "metadata": {},
     "output_type": "execute_result"
    }
   ],
   "source": [
    "for x in range(3, -1, -1):\n",
    "    print(x, \"..\")\n",
    "list (range(0,4))"
   ]
  },
  {
   "cell_type": "markdown",
   "id": "1ba7f238-eeac-4eea-b7db-e4c112888707",
   "metadata": {},
   "source": [
    "(6.2) Assign the value 7 to the variable guess_me, and the value 1 to the variable number. Write a while loop that compares number with guess_me. Print 'too low' if number is less than guess me. If number equals guess_me, print 'found it!' and then exit the loop. If number is greater than guess_me, print 'oops' and then exit the loop. Increment number at the end of the loop.\r\n"
   ]
  },
  {
   "cell_type": "code",
   "execution_count": 23,
   "id": "3b8beb74-459e-4c2b-bb67-d21da4936454",
   "metadata": {},
   "outputs": [
    {
     "name": "stdout",
     "output_type": "stream",
     "text": [
      "too low\n",
      "too low\n",
      "too low\n",
      "too low\n",
      "too low\n",
      "too low\n",
      "too low\n",
      "found it!\n"
     ]
    }
   ],
   "source": [
    "guess_me = 7\n",
    "number = 1\n",
    "while number <= guess_me:\n",
    "    print(\"too low\")\n",
    "    if number == guess_me:\n",
    "        print(\"found it!\")\n",
    "        break\n",
    "    if number > guess_me:\n",
    "        print(\"oops\")\n",
    "        break\n",
    "    number += 1\n",
    "\n",
    "\n",
    "        \n",
    "        \n",
    "    "
   ]
  },
  {
   "cell_type": "markdown",
   "id": "94ed8b4f-2ad8-4f79-83ff-cfb15f2405f8",
   "metadata": {},
   "source": [
    "6.3 Assign the value 5 to the variable guess_me. Use a for loop to iterate a variable called number over range(10). If number is less than guess_me, print 'too low'. If it equals guess_me, print found it! and then break out of the for loop. If number is greater than guess_me, print 'oops' and then exit the loop."
   ]
  },
  {
   "cell_type": "code",
   "execution_count": 33,
   "id": "c98ce87a-bf02-4a56-9b9d-c6ff4f7e1c60",
   "metadata": {},
   "outputs": [
    {
     "name": "stdout",
     "output_type": "stream",
     "text": [
      "too low\n",
      "too low\n",
      "too low\n",
      "too low\n",
      "too low\n",
      "found it\n",
      "oops\n"
     ]
    }
   ],
   "source": [
    "guess_me = 5\n",
    "\n",
    "for number in range(10):\n",
    "    if number < guess_me:\n",
    "        print(\"too low\")\n",
    "    elif number > guess_me:\n",
    "        print(\"oops\")\n",
    "        break\n",
    "    else: \n",
    "        print(\"found it\")\n",
    "    "
   ]
  }
 ],
 "metadata": {
  "kernelspec": {
   "display_name": "Python 3 (ipykernel)",
   "language": "python",
   "name": "python3"
  },
  "language_info": {
   "codemirror_mode": {
    "name": "ipython",
    "version": 3
   },
   "file_extension": ".py",
   "mimetype": "text/x-python",
   "name": "python",
   "nbconvert_exporter": "python",
   "pygments_lexer": "ipython3",
   "version": "3.11.7"
  }
 },
 "nbformat": 4,
 "nbformat_minor": 5
}
