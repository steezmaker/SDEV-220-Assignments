{
 "cells": [
  {
   "cell_type": "markdown",
   "id": "2b0899b8-2714-4402-840c-85f64fe33981",
   "metadata": {},
   "source": [
    "Author: Jonas Treadwell\n",
    "Program Name: M01 Programming Assignment - Numbers and Types\n",
    "Last Date Revised: 3/19/24"
   ]
  },
  {
   "cell_type": "markdown",
   "id": "6cf5387a-d6f9-4a6b-8830-672955852eff",
   "metadata": {},
   "source": [
    "How many seconds are in an hour? Use the interactive interpreter as a calculator and multiply the number of seconds in a minute (60) by the number of minutes in an hour (also 60).\n",
    "\n",
    "There are 3600 seconds in an hour\n"
   ]
  },
  {
   "cell_type": "code",
   "execution_count": 1,
   "id": "1d3eb702-9ab8-495b-af38-1c5e00eb3feb",
   "metadata": {},
   "outputs": [
    {
     "data": {
      "text/plain": [
       "3600"
      ]
     },
     "execution_count": 1,
     "metadata": {},
     "output_type": "execute_result"
    }
   ],
   "source": [
    "60 * 60"
   ]
  },
  {
   "cell_type": "markdown",
   "id": "758b6cd4-bd5b-44af-b465-76016105d41b",
   "metadata": {},
   "source": [
    " Assign the result from the previous task (seconds in an hour) to a variable called"
   ]
  },
  {
   "cell_type": "code",
   "execution_count": 6,
   "id": "e2ad4fbd-e277-4180-8693-ade24805956c",
   "metadata": {},
   "outputs": [],
   "source": [
    "seconds_per_hour = 3600"
   ]
  },
  {
   "cell_type": "markdown",
   "id": "6d3e045e-bd23-489a-9cbc-8481c8b7288c",
   "metadata": {},
   "source": [
    "How many seconds are in a day? Use your seconds_per_hour variable"
   ]
  },
  {
   "cell_type": "code",
   "execution_count": 7,
   "id": "379939c2-ff7d-470d-9e28-fe6377756c4b",
   "metadata": {},
   "outputs": [
    {
     "data": {
      "text/plain": [
       "86400"
      ]
     },
     "execution_count": 7,
     "metadata": {},
     "output_type": "execute_result"
    }
   ],
   "source": [
    "seconds_per_hour * 24"
   ]
  },
  {
   "cell_type": "markdown",
   "id": "37e29b96-fd9f-4215-a91a-15a8b321279d",
   "metadata": {},
   "source": [
    "Calculate seconds per day again, but this time save the result in a variable called seconds_per_day."
   ]
  },
  {
   "cell_type": "code",
   "execution_count": 8,
   "id": "2189755e-d960-492c-9092-99ab821b424b",
   "metadata": {},
   "outputs": [
    {
     "data": {
      "text/plain": [
       "86400"
      ]
     },
     "execution_count": 8,
     "metadata": {},
     "output_type": "execute_result"
    }
   ],
   "source": [
    "seconds_per_day = seconds_per_hour *24\n",
    "seconds_per_day"
   ]
  },
  {
   "cell_type": "markdown",
   "id": "93caf619-c528-410b-b893-a25357f5e6d1",
   "metadata": {},
   "source": [
    "Divide seconds_per_day by seconds_per_hour. Use floating-point (/) division"
   ]
  },
  {
   "cell_type": "code",
   "execution_count": 9,
   "id": "112a64e2-c808-444f-a906-acae5086260f",
   "metadata": {},
   "outputs": [
    {
     "data": {
      "text/plain": [
       "24.0"
      ]
     },
     "execution_count": 9,
     "metadata": {},
     "output_type": "execute_result"
    }
   ],
   "source": [
    "seconds_per_day / seconds_per_hour"
   ]
  },
  {
   "cell_type": "markdown",
   "id": "09754ba2-9f51-4cdd-bd4d-04504f7fd8b2",
   "metadata": {},
   "source": [
    "Divide seconds_per_day by seconds_per_hour, using integer (//) division. Did this number agree with the floating-point value from the previous question, aside from the final .0?\n",
    "\n",
    "Answer: Yes"
   ]
  },
  {
   "cell_type": "code",
   "execution_count": 10,
   "id": "d8109ace-9f6f-4ac9-a9f5-24c7832248e1",
   "metadata": {},
   "outputs": [
    {
     "data": {
      "text/plain": [
       "24"
      ]
     },
     "execution_count": 10,
     "metadata": {},
     "output_type": "execute_result"
    }
   ],
   "source": [
    "seconds_per_day // seconds_per_hour"
   ]
  }
 ],
 "metadata": {
  "kernelspec": {
   "display_name": "Python 3 (ipykernel)",
   "language": "python",
   "name": "python3"
  },
  "language_info": {
   "codemirror_mode": {
    "name": "ipython",
    "version": 3
   },
   "file_extension": ".py",
   "mimetype": "text/x-python",
   "name": "python",
   "nbconvert_exporter": "python",
   "pygments_lexer": "ipython3",
   "version": "3.11.7"
  }
 },
 "nbformat": 4,
 "nbformat_minor": 5
}
