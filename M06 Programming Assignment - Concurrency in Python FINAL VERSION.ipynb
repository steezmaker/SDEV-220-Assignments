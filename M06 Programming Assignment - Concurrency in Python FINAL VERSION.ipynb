{
 "cells": [
  {
   "cell_type": "markdown",
   "id": "ffdc51c7",
   "metadata": {},
   "source": [
    "13.1 Write the current date as a string to the text file today.txt."
   ]
  },
  {
   "cell_type": "code",
   "execution_count": 3,
   "id": "e8ef6f6a",
   "metadata": {},
   "outputs": [],
   "source": [
    "from datetime import date\n",
    "\n",
    "today = date.today()\n",
    "\n",
    "date_string = today.strftime(\"%Y-%m-%d\")\n",
    "\n",
    "with open (\"today.txt\", \"w\") as file:\n",
    "    file.write(date_string)"
   ]
  },
  {
   "cell_type": "markdown",
   "id": "09fabb71",
   "metadata": {},
   "source": [
    "13.2 Read the text file today.txt into the string today_string."
   ]
  },
  {
   "cell_type": "code",
   "execution_count": 4,
   "id": "f27bb039",
   "metadata": {},
   "outputs": [
    {
     "name": "stdout",
     "output_type": "stream",
     "text": [
      "2024-05-12\n"
     ]
    }
   ],
   "source": [
    "with open (\"today.txt\", \"r\") as file:\n",
    "    today_string = file.read()\n",
    "\n",
    "print(today_string)"
   ]
  },
  {
   "cell_type": "markdown",
   "id": "3f0b4e94",
   "metadata": {},
   "source": [
    "13.3 Parse the date from today_string."
   ]
  },
  {
   "cell_type": "code",
   "execution_count": 5,
   "id": "f6db61e5",
   "metadata": {},
   "outputs": [
    {
     "name": "stdout",
     "output_type": "stream",
     "text": [
      "My birthday:  2003-06-29\n"
     ]
    }
   ],
   "source": [
    "from datetime import datetime\n",
    "\n",
    "dob_string = \"2003-6-29\"\n",
    "\n",
    "dob_date = datetime.strptime(dob_string, \"%Y-%m-%d\").date()\n",
    "\n",
    "print(\"My birthday: \", dob_date)"
   ]
  },
  {
   "cell_type": "markdown",
   "id": "58718827",
   "metadata": {},
   "source": [
    "15.1 Use multiprocessing to create three separate processes. Make each one wait a random number of seconds between zero and one, print the current time, and then exit."
   ]
  },
  {
   "cell_type": "code",
   "execution_count": 6,
   "id": "b12676a0",
   "metadata": {},
   "outputs": [
    {
     "name": "stdout",
     "output_type": "stream",
     "text": [
      "Today's date and time is 2024-05-12 16:25:10.617992\n",
      "Today's date and time is 2024-05-12 16:25:10.904175\n",
      "Today's date and time is 2024-05-12 16:25:11.589411\n"
     ]
    }
   ],
   "source": [
    "import multiprocessing\n",
    "from datetime import datetime\n",
    "import time\n",
    "import random\n",
    "\n",
    "\n",
    "def ptime():\n",
    "    cur = datetime.now()\n",
    "    print(\"Today's date and time is {}\".format(cur))\n",
    "    time.sleep(random.random())\n",
    "\n",
    "if __name__ == '__main__':\n",
    "    proc1 = multiprocessing.Process(target=ptime())\n",
    "    proc2 = multiprocessing.Process(target=ptime())\n",
    "    proc3 = multiprocessing.Process(target=ptime())\n",
    "    proc1.start()\n",
    "    proc2.start()\n",
    "    proc3.start()\n",
    "    proc1.join()\n",
    "    proc2.join()\n",
    "    proc3.join()"
   ]
  }
 ],
 "metadata": {
  "kernelspec": {
   "display_name": "Python 3 (ipykernel)",
   "language": "python",
   "name": "python3"
  },
  "language_info": {
   "codemirror_mode": {
    "name": "ipython",
    "version": 3
   },
   "file_extension": ".py",
   "mimetype": "text/x-python",
   "name": "python",
   "nbconvert_exporter": "python",
   "pygments_lexer": "ipython3",
   "version": "3.11.7"
  }
 },
 "nbformat": 4,
 "nbformat_minor": 5
}
