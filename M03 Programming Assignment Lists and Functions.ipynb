{
 "cells": [
  {
   "cell_type": "markdown",
   "id": "6295fe8b-c60a-4ab6-a946-819395b9ee5d",
   "metadata": {},
   "source": [
    "7.4  Make a list called things with these three strings as elements: \"mozzarella\", \"cinderella\", \"salmonella\"."
   ]
  },
  {
   "cell_type": "code",
   "execution_count": 10,
   "id": "fdb8eb28-edd4-4d8f-bc0c-9af3dcf7542d",
   "metadata": {},
   "outputs": [
    {
     "data": {
      "text/plain": [
       "['mozzarella', 'cinderella', 'salmonella']"
      ]
     },
     "execution_count": 10,
     "metadata": {},
     "output_type": "execute_result"
    }
   ],
   "source": [
    "things = ['mozzarella', 'cinderella', 'salmonella']\n",
    "list(things)"
   ]
  },
  {
   "cell_type": "markdown",
   "id": "439fd690-1287-4768-ba6e-2c4841fdebc7",
   "metadata": {},
   "source": [
    "7.5 Capitalize the element in things that refers to a person and then print the list. Did it change the element in the list?\n",
    "Answer: Yes"
   ]
  },
  {
   "cell_type": "code",
   "execution_count": 11,
   "id": "b58a53d0-041e-4ab4-9752-a0bc46cdee5a",
   "metadata": {},
   "outputs": [
    {
     "data": {
      "text/plain": [
       "['mozzarella', 'Cinderella', 'salmonella']"
      ]
     },
     "execution_count": 11,
     "metadata": {},
     "output_type": "execute_result"
    }
   ],
   "source": [
    "things = ['mozzarella', 'Cinderella', 'salmonella']\n",
    "list(things)"
   ]
  },
  {
   "cell_type": "markdown",
   "id": "481c8bb7-81d4-4ef1-a773-4551a4792010",
   "metadata": {},
   "source": [
    "7.6 Make the cheesy element of things all uppercase and then print the list."
   ]
  },
  {
   "cell_type": "code",
   "execution_count": 12,
   "id": "b902126b-a4be-42e9-96d1-adc96a681fb6",
   "metadata": {},
   "outputs": [
    {
     "data": {
      "text/plain": [
       "['mozzarella', 'Cinderella', 'salmonella']"
      ]
     },
     "execution_count": 12,
     "metadata": {},
     "output_type": "execute_result"
    }
   ],
   "source": [
    "THINGS = ['mozzarella', 'Cinderella', 'salmonella']\n",
    "list(THINGS)"
   ]
  },
  {
   "cell_type": "markdown",
   "id": "d7ad5fd4-f0cd-4c13-b1d0-5fa3f44ee411",
   "metadata": {},
   "source": [
    "7.7 Delete the disease element from things, collect your Nobel Prize, and print the list."
   ]
  },
  {
   "cell_type": "code",
   "execution_count": 13,
   "id": "9b7dfea8-60a4-4759-8d56-f02542213e4d",
   "metadata": {},
   "outputs": [
    {
     "data": {
      "text/plain": [
       "['mozzarella', 'Cinderella']"
      ]
     },
     "execution_count": 13,
     "metadata": {},
     "output_type": "execute_result"
    }
   ],
   "source": [
    "THINGS = ['mozzarella', 'Cinderella']\n",
    "list(THINGS)"
   ]
  },
  {
   "cell_type": "markdown",
   "id": "bc22f142-b1ef-4269-8530-20c17dec7b1a",
   "metadata": {},
   "source": [
    "9.1 Define a function called good() that returns the following list: ['Harry', 'Ron', 'Hermione']."
   ]
  },
  {
   "cell_type": "code",
   "execution_count": 16,
   "id": "505116a6-4a56-41ba-847d-d5804f83a32e",
   "metadata": {},
   "outputs": [],
   "source": [
    "def good():\n",
    "    return ['Harry', 'Ron', 'Hermione']"
   ]
  },
  {
   "cell_type": "markdown",
   "id": "120c9fad-61ec-4b81-a90b-d618289bc71c",
   "metadata": {},
   "source": [
    "9.2 Define a generator function called get_odds() that returns the odd numbers from range(10). Use a for loop to find and print the third value returned."
   ]
  },
  {
   "cell_type": "code",
   "execution_count": 17,
   "id": "e0442406-4263-470e-b61d-793351f8d03f",
   "metadata": {},
   "outputs": [
    {
     "name": "stdout",
     "output_type": "stream",
     "text": [
      "5\n"
     ]
    }
   ],
   "source": [
    "def get_odds():\n",
    "    for number in range(10):\n",
    "        if number % 2 != 0:\n",
    "            yield number\n",
    "gen = get_odds()\n",
    "next(gen)\n",
    "next(gen)\n",
    "print(next(gen))"
   ]
  }
 ],
 "metadata": {
  "kernelspec": {
   "display_name": "Python 3 (ipykernel)",
   "language": "python",
   "name": "python3"
  },
  "language_info": {
   "codemirror_mode": {
    "name": "ipython",
    "version": 3
   },
   "file_extension": ".py",
   "mimetype": "text/x-python",
   "name": "python",
   "nbconvert_exporter": "python",
   "pygments_lexer": "ipython3",
   "version": "3.11.7"
  }
 },
 "nbformat": 4,
 "nbformat_minor": 5
}
