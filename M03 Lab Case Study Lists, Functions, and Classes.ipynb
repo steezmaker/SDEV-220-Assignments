{
 "cells": [
  {
   "cell_type": "markdown",
   "id": "123d586f-fe46-4a91-bc05-c0c20eb549d0",
   "metadata": {},
   "source": [
    "Write a Python app that has the following classes:\r\n",
    "A super class called Vehicle, which contains an attribute for vehicle type, such as car, truck, plane, boat, or a broomstick.\r\n",
    "A class called Automobile which will inherit the attributes from Vehicle and also contain the following attributes:\r\n",
    "year\r\n",
    "make\r\n",
    "model\r\n",
    "doors (2 or 4)\r\n",
    "roof (solid or sun roof).\r\n",
    "Write an app that will accept user input for a car. The app will store \"car\" into the vehicle type in your Vehicle super class. \r\n",
    "The app will then ask the user for the year, make, model, doors, and type of roof and store that data in the attributes above.\r\n",
    "The app will then output the data in an easy-to-read and understandable format, such as this:\r\n",
    "  Vehicle type: car\r\n",
    "  Year: 2022\r\n",
    "  Make: Toyota\r\n",
    "  Model: Corolla\r\n",
    "  Number of doors: 4\r\n",
    "  Type of roof: sunroof"
   ]
  },
  {
   "cell_type": "code",
   "execution_count": 2,
   "id": "e9261d93-d42f-4e6b-90d4-4c25e785eb32",
   "metadata": {},
   "outputs": [
    {
     "name": "stdin",
     "output_type": "stream",
     "text": [
      "Enter the year:  2023\n",
      "Enter the make:  Chevy\n",
      "Enter the model:  Traverse LT\n",
      "Enter the number of doors (2 or 4):  4\n",
      "Enter the type of roof (solid or sun roof):  sun roof\n"
     ]
    },
    {
     "name": "stdout",
     "output_type": "stream",
     "text": [
      "Vehicle type: car\n",
      "Year: 2023\n",
      "Make: Chevy\n",
      "Model: Traverse LT\n",
      "Number of doors: 4\n",
      "Type of roof: sun roof\n"
     ]
    }
   ],
   "source": [
    "class Vehicle:\n",
    "    def __init__(self, vehicle_type):\n",
    "        self.vehicle_type = vehicle_type\n",
    "\n",
    "class Automobile(Vehicle):\n",
    "    def __init__(self, vehicle_type):\n",
    "        super().__init__(vehicle_type)\n",
    "        self.year = \"\"\n",
    "        self.make = \"\"\n",
    "        self.model = \"\"\n",
    "        self.doors = \"\"\n",
    "        self.roof = \"\"\n",
    "\n",
    "    def display_data(self):\n",
    "        print(\"Vehicle type:\", self.vehicle_type)\n",
    "        print(\"Year:\", self.year)\n",
    "        print(\"Make:\", self.make)\n",
    "        print(\"Model:\", self.model)\n",
    "        print(\"Number of doors:\", self.doors)\n",
    "        print(\"Type of roof:\", self.roof)\n",
    "\n",
    "car = Automobile(\"car\")\n",
    "\n",
    "car.year = input(\"Enter the year: \")\n",
    "car.make = input(\"Enter the make: \")\n",
    "car.model = input(\"Enter the model: \")\n",
    "car.doors = input(\"Enter the number of doors (2 or 4): \")\n",
    "car.roof = input(\"Enter the type of roof (solid or sun roof): \")\n",
    "\n",
    "car.display_data()"
   ]
  }
 ],
 "metadata": {
  "kernelspec": {
   "display_name": "Python 3 (ipykernel)",
   "language": "python",
   "name": "python3"
  },
  "language_info": {
   "codemirror_mode": {
    "name": "ipython",
    "version": 3
   },
   "file_extension": ".py",
   "mimetype": "text/x-python",
   "name": "python",
   "nbconvert_exporter": "python",
   "pygments_lexer": "ipython3",
   "version": "3.11.7"
  }
 },
 "nbformat": 4,
 "nbformat_minor": 5
}
